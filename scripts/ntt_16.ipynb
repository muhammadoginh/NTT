{
 "cells": [
  {
   "cell_type": "markdown",
   "metadata": {},
   "source": [
    "# this file is intended as modeling 16-point ntt"
   ]
  },
  {
   "cell_type": "code",
   "execution_count": 3,
   "metadata": {},
   "outputs": [
    {
     "name": "stdout",
     "output_type": "stream",
     "text": [
      "Random numbers have been saved to ntt_16_in.mem\n"
     ]
    }
   ],
   "source": [
    "import random\n",
    "\n",
    "# Set a random seed\n",
    "random.seed(int(1))\n",
    "\n",
    "# Generate 16 random 32-bit number\n",
    "random_numbers = [random.randint(2**31, 2**32 - 1) for i in range(16)]\n",
    "\n",
    "# Write the numbers to a file\n",
    "filename = \"ntt_16_in.mem\"\n",
    "with open(filename, \"w\") as file:\n",
    "    for number in random_numbers:\n",
    "        file.write(str(number) + \"\\n\")\n",
    "\n",
    "print(\"Random numbers have been saved to\", filename)"
   ]
  },
  {
   "cell_type": "code",
   "execution_count": 4,
   "metadata": {},
   "outputs": [],
   "source": [
    "def convert_to_hex(input_file, output_file):\n",
    "    # Open the input file for reading\n",
    "    with open(input_file, 'r') as f:\n",
    "        # Read the lines from the file\n",
    "        lines = f.readlines()\n",
    "\n",
    "    # Convert each number in each line to hexadecimal\n",
    "    hex_lines = []\n",
    "    for line in lines:\n",
    "        numbers = line.split()\n",
    "        hex_numbers = [hex(int(num)) for num in numbers]\n",
    "        hex_lines.append(hex_numbers)\n",
    "    # print(\"number of rows\", len(hex_lines))\n",
    "\n",
    "    # Open the output file for writing\n",
    "    with open(output_file, 'w') as f:\n",
    "        # Write the hexadecimal numbers to the output file\n",
    "        for i in range(len(hex_lines)):\n",
    "            for hex_line in hex_lines[i]:\n",
    "                f.write(hex_line[2:] + ' ')\n",
    "            f.write('\\n')"
   ]
  },
  {
   "cell_type": "code",
   "execution_count": 5,
   "metadata": {},
   "outputs": [
    {
     "name": "stdout",
     "output_type": "stream",
     "text": [
      "Conversion completed!\n"
     ]
    }
   ],
   "source": [
    "# Paths to input and output files\n",
    "input_file = 'ntt_16_in.mem'\n",
    "output_file = 'ntt_16_in_hex.mem'\n",
    "\n",
    "# Convert numbers to hexadecimal and write to output file\n",
    "convert_to_hex(input_file, output_file)\n",
    "\n",
    "print(\"Conversion completed!\")"
   ]
  },
  {
   "cell_type": "markdown",
   "metadata": {},
   "source": [
    "Generate twiddle factor table"
   ]
  },
  {
   "cell_type": "code",
   "execution_count": 1,
   "metadata": {},
   "outputs": [],
   "source": [
    "from sympy.ntheory.residue_ntheory import nthroot_mod\n",
    "q = 4294828033 \n",
    "n = 16"
   ]
  },
  {
   "cell_type": "code",
   "execution_count": 2,
   "metadata": {},
   "outputs": [
    {
     "name": "stdout",
     "output_type": "stream",
     "text": [
      "Still writing to table...\n",
      "Finish\n"
     ]
    }
   ],
   "source": [
    "def tfg(n, q):\n",
    "    psi = int(nthroot_mod(-1,n,q))\n",
    "    print(\"Still writing to table...\")\n",
    "    Y_table = []  # Start with the first element, which is 1 (psi^0 mod q)\n",
    "    memo = 1\n",
    "    \n",
    "    for i in range(n):\n",
    "        if i == 0:\n",
    "            next_element = memo\n",
    "        else:\n",
    "            next_element = (memo*psi) % q\n",
    "            memo = next_element\n",
    "            # print(memo)\n",
    "        Y_table.append(next_element)\n",
    "\n",
    "    # Convert the list to a string with each element on a separate line\n",
    "    result_str = '\\n'.join(map(str, Y_table))\n",
    "        # result_str = ''.join(map(str, Y_table))\n",
    "    return Y_table\n",
    "    # return result_str\n",
    "\n",
    "result = tfg(n, q)\n",
    "\n",
    "\n",
    "# Write the result to a file\n",
    "output_filename = \"psitable_16_hex.mem\"\n",
    "with open(output_filename, 'w') as output_file:\n",
    "    for number in result:\n",
    "        # output_file.write(str(number) + \"\\n\")\n",
    "        output_file.write(hex(number)[2:] + '\\n')\n",
    "\n",
    "print(\"Finish\")"
   ]
  },
  {
   "cell_type": "code",
   "execution_count": 4,
   "metadata": {},
   "outputs": [],
   "source": [
    "from ntt import *\n",
    "import time"
   ]
  },
  {
   "cell_type": "markdown",
   "metadata": {},
   "source": [
    "ntt"
   ]
  },
  {
   "cell_type": "code",
   "execution_count": 15,
   "metadata": {},
   "outputs": [
    {
     "name": "stdout",
     "output_type": "stream",
     "text": [
      "NTT ... \n",
      "\n",
      "[2724573685, 2418525393, 3242996796, 2653940617, 4275361147, 4078033059, 4175761505, 3777918614, 3049232685, 2550607500, 4242812034, 2269235112, 3821699725, 4006204038, 2156529062, 4060407085]\n",
      "4173969863\n",
      "0 8\n",
      "4173969863\n",
      "1 9\n",
      "4173969863\n",
      "2 10\n",
      "4173969863\n",
      "3 11\n",
      "4173969863\n",
      "4 12\n",
      "4173969863\n",
      "5 13\n",
      "4173969863\n",
      "6 14\n",
      "4173969863\n",
      "7 15\n",
      "[1799093728, 2079909023, 2864726843, 2195374484, 3722342880, 121936374, 4142457303, 2772400707, 3650053642, 2757141763, 3621266749, 3112506750, 533551381, 3739301711, 4209065707, 488608488]\n",
      "631441563\n",
      "0 4\n",
      "631441563\n",
      "1 5\n",
      "631441563\n",
      "2 6\n",
      "631441563\n",
      "3 7\n",
      "564333851\n",
      "8 12\n",
      "564333851\n",
      "9 13\n",
      "564333851\n",
      "10 14\n",
      "564333851\n",
      "11 15\n",
      "[3157457058, 3899948831, 984425483, 2846614240, 440730398, 259869215, 450200170, 1544134728, 1220729219, 2091369004, 226311577, 2522674508, 1784550032, 3422914522, 2721393888, 3702338992]\n",
      "2709936104\n",
      "0 2\n",
      "2709936104\n",
      "1 3\n",
      "2572034793\n",
      "4 6\n",
      "2572034793\n",
      "5 7\n",
      "1303993941\n",
      "8 10\n",
      "1303993941\n",
      "9 11\n",
      "2441236027\n",
      "12 14\n",
      "2441236027\n",
      "13 15\n",
      "[502874747, 1011389108, 1517211336, 2493680521, 24812490, 651578944, 856648306, 4162987519, 1156555419, 3548898568, 1284903019, 633839440, 2718529350, 3323743760, 850570714, 3522085284]\n",
      "28157506\n",
      "0 1\n",
      "2472615992\n",
      "2 3\n",
      "316419785\n",
      "4 5\n",
      "1413156457\n",
      "6 7\n",
      "638910600\n",
      "8 9\n",
      "1966483567\n",
      "10 11\n",
      "2242788536\n",
      "12 13\n",
      "285324626\n",
      "14 15\n",
      "Result: [2415394632, 2885182895, 2454799486, 579623186, 1266560305, 3077892708, 3604369981, 2403754664, 191366503, 2121744335, 1102767478, 1467038560, 4197108775, 1239949925, 3790014788, 2205954673]\n",
      "Computation Time: 19754.4097900391 microsecond\n"
     ]
    }
   ],
   "source": [
    "# load psitable\n",
    "f_psitable = open(\"psitable_16.mem\", \"r\")\n",
    "psiTable = f_psitable.read().split()\n",
    "\n",
    "# load data\n",
    "f_data = open(\"ntt_16_in.mem\", \"r\")\n",
    "a = f_data.read().split()\n",
    "\n",
    "# Convert each string element into an integer\n",
    "psiTable = [int(num) for num in psiTable]\n",
    "a = [int(num) for num in a]\n",
    "\n",
    "start_time = time.time()\n",
    "result = NTT(a, indexReverse(psiTable, int(math.log2(len(psiTable)))), q)\n",
    "end_time = time.time()\n",
    "\n",
    "computation_time_seconds = end_time - start_time\n",
    "computation_time_milliseconds = computation_time_seconds * 1e6\n",
    "\n",
    "print(\"Result:\", result)\n",
    "print(\"Computation Time:\", computation_time_milliseconds, \"microsecond\")\n",
    "\n",
    "# Write the result to a file\n",
    "output_filename = \"expected_ntt_16.mem\"\n",
    "with open(output_filename, 'w') as output_file:\n",
    "    for number in result:\n",
    "        # output_file.write(str(number) + \"\\n\")\n",
    "        output_file.write(hex(number)[2:] + '\\n')\n"
   ]
  },
  {
   "cell_type": "markdown",
   "metadata": {},
   "source": [
    "intt"
   ]
  },
  {
   "cell_type": "code",
   "execution_count": 14,
   "metadata": {},
   "outputs": [
    {
     "name": "stdout",
     "output_type": "stream",
     "text": [
      "Result: [2724573685, 2418525393, 3242996796, 2653940617, 4275361147, 4078033059, 4175761505, 3777918614, 3049232685, 2550607500, 4242812034, 2269235112, 3821699725, 4006204038, 2156529062, 4060407085]\n",
      "Computation Time: 140.905380249023 microsecond\n"
     ]
    }
   ],
   "source": [
    "hat_a = [2415394632, 2885182895, 2454799486, 579623186, 1266560305, 3077892708, 3604369981, 2403754664, 191366503, 2121744335, 1102767478, 1467038560, 4197108775, 1239949925, 3790014788, 2205954673]\n",
    "inv_psitable = [modinv(a, q) for a in psiTable]\n",
    "\n",
    "start_time = time.time()\n",
    "result = iNTT(hat_a, indexReverse(inv_psitable, int(math.log2(len(inv_psitable)))), q)\n",
    "end_time = time.time()\n",
    "\n",
    "computation_time_seconds = end_time - start_time\n",
    "computation_time_milliseconds = computation_time_seconds * 1e6\n",
    "\n",
    "print(\"Result:\", result)\n",
    "print(\"Computation Time:\", computation_time_milliseconds, \"microsecond\")"
   ]
  },
  {
   "cell_type": "code",
   "execution_count": 28,
   "metadata": {},
   "outputs": [
    {
     "data": {
      "text/plain": [
       "True"
      ]
     },
     "execution_count": 28,
     "metadata": {},
     "output_type": "execute_result"
    }
   ],
   "source": [
    "a == result"
   ]
  },
  {
   "cell_type": "markdown",
   "metadata": {},
   "source": [
    "DIV2"
   ]
  },
  {
   "cell_type": "code",
   "execution_count": 16,
   "metadata": {},
   "outputs": [],
   "source": [
    "def DIV2(n,q):\n",
    "    if (n % 2 == 0):\n",
    "        n = n >> 1\n",
    "    else: # n is odd\n",
    "        n = (n >> 1) + ((q + 1) >> 1)\n",
    "    return n"
   ]
  },
  {
   "cell_type": "code",
   "execution_count": 21,
   "metadata": {},
   "outputs": [
    {
     "data": {
      "text/plain": [
       "3914217939"
      ]
     },
     "execution_count": 21,
     "metadata": {},
     "output_type": "execute_result"
    }
   ],
   "source": [
    "DIV2(3533607845,4294828033)"
   ]
  },
  {
   "cell_type": "code",
   "execution_count": 23,
   "metadata": {},
   "outputs": [
    {
     "data": {
      "text/plain": [
       "261571507"
      ]
     },
     "execution_count": 23,
     "metadata": {},
     "output_type": "execute_result"
    }
   ],
   "source": [
    "DIV2(523143014, 4294828033)"
   ]
  },
  {
   "cell_type": "code",
   "execution_count": null,
   "metadata": {},
   "outputs": [],
   "source": []
  }
 ],
 "metadata": {
  "kernelspec": {
   "display_name": "SageMath 9.5",
   "language": "sage",
   "name": "sagemath"
  },
  "language_info": {
   "codemirror_mode": {
    "name": "ipython",
    "version": 3
   },
   "file_extension": ".py",
   "mimetype": "text/x-python",
   "name": "python",
   "nbconvert_exporter": "python",
   "pygments_lexer": "ipython3",
   "version": "3.10.12"
  }
 },
 "nbformat": 4,
 "nbformat_minor": 2
}
